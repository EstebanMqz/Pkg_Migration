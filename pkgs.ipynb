{
 "cells": [
  {
   "cell_type": "markdown",
   "metadata": {},
   "source": [
    "[![MonteCarlo-Simulations](https://img.shields.io/badge/Python_Repair-README.md-black?style=square&logo=github&logoColor=black)](https://github.com/EstebanMqz/Python_Repair/tree/main)"
   ]
  },
  {
   "cell_type": "markdown",
   "metadata": {},
   "source": [
    "<i>In general, it is not recommended to uninstall Python and all of its cache unless you are having serious problems troubleshooting a local environment.\n",
    "Nevertheless, before installing a new Python version it is recommended to backup its pkgs in local environment.</i>"
   ]
  },
  {
   "cell_type": "markdown",
   "metadata": {},
   "source": [
    "#### <font color= '#2754db'> 1. Backup pkgs in Python version (if any). </font>"
   ]
  },
  {
   "cell_type": "markdown",
   "metadata": {},
   "source": [
    "**Note**: Be aware that running this cell in your environment will overwrite the file [`old.txt`](https://github.com/EstebanMqz/Python_Repair/blob/main/old.txt) so the content is <u>irrelevant</u>. <br>\n",
    "<i>Feel free to use any of the pkgs in your environment</i>"
   ]
  },
  {
   "cell_type": "code",
   "execution_count": 26,
   "metadata": {},
   "outputs": [
    {
     "name": "stdout",
     "output_type": "stream",
     "text": [
      "['Automat ', 'Babel ', 'Bottleneck ', 'Cython ', 'DateTime', 'Django', 'Flask ', 'GitPython', 'HeapDict ', 'Jinja2 ', 'Markdown ', 'MarkupSafe', 'MetaTrader5', 'Pillow', 'Protego ', 'PyDispatcher', 'PyHamcrest ', 'PyJWT ', 'PyNaCl ', 'PySocks ', 'PyWavelets ', 'PyYAML', 'Pygments ', 'Pympler', 'QDarkStyle ', 'QtAwesome ', 'QtPy ', 'Quandl ', 'Rtree ', 'SQLAlchemy ', 'Scrapy ', 'Send2Trash ', 'Sphinx ', 'TBB', 'Twisted ', 'Unidecode ', 'Werkzeug ', 'XlsxWriter ', 'absl-py', 'aiodns', 'aiohttp ', 'aiosignal ', 'alabaster ', 'altair', 'anaconda-client ', 'anaconda-navigator', 'anaconda-project ', 'ansi2html', 'anyio ', 'appdirs', 'argon2-cffi ', 'argon2-cffi-bindings ', 'arrow ', 'asgiref', 'astroid ', 'astropy ', 'asttokens ', 'astunparse', 'async-timeout ', 'atomicwrites', 'attrs ', 'autopep8 ', 'backcall ', 'backports.functools-lru-cache ', 'backports.tempfile ', 'backports.weakref', 'backports.zoneinfo', 'bcrypt ', 'beautifulsoup4 ', 'binaryornot ', 'bitarray ', 'bkcharts', 'black', 'bleach ', 'blinker', 'bokeh ', 'boto3 ', 'botocore ', 'brotlipy', 'cachetools ', 'ccxt', 'certifi ', 'cffi ', 'chardet ', 'charset-normalizer ', 'chart-studio', 'click ', 'cloudpickle ', 'clyent', 'cmake', 'colorama ', 'colorcet ', 'colorlog', 'commonmark', 'comtypes', 'conda', 'conda-build', 'conda-content-trust ', 'conda-pack ', 'conda-package-handling ', 'conda-repo-cli ', 'conda-token ', 'conda-verify', 'constantly', 'contourpy', 'cookiecutter ', 'cryptography ', 'cssselect', 'cvxpy', 'cycler ', 'cytoolz', 'daal4py', 'dash', 'dash-core-components', 'dash-html-components', 'dash-table', 'dask ', 'datashader ', 'datashape', 'debugpy ', 'decorator ', 'defusedxml ', 'diff-match-patch ', 'distlib', 'distributed ', 'docopt', 'docutils ', 'easy-install', 'easydev ', 'ecos', 'entrypoints ', 'et-xmlfile', 'exceptiongroup', 'executing ', 'fastjsonschema ', 'filelock ', 'financetoolbox', 'fire', 'fitter', 'fix-yahoo-finance', 'flake8 ', 'flatbuffers', 'fonttools', 'frozenlist ', 'fsspec ', 'future', 'gast', 'gensim ', 'genson', 'gitdb', 'glob2 ', 'google-api-core ', 'google-auth', 'google-auth-oauthlib', 'google-cloud-core ', 'google-cloud-storage ', 'google-crc32c ', 'google-pasta', 'google-resumable-media ', 'googleapis-common-protos ', 'greenlet ', 'grep', 'grip', 'grpcio', 'h5py', 'holoviews ', 'html5lib', 'hvplot ', 'hyperlink ', 'idna ', 'image', 'imagecodecs ', 'imageio ', 'imagesize ', 'importlib-metadata ', 'importlib-resources ', 'incremental ', 'inflection', 'iniconfig ', 'intake ', 'intervaltree ', 'ipykernel ', 'ipython', 'ipython-autotime', 'ipython-genutils ', 'ipywidgets ', 'isort ', 'itemadapter ', 'itemloaders ', 'itsdangerous ', 'jaraco.classes', 'jax', 'jdcal ', 'jedi ', 'jinja2-time ', 'jmespath ', 'joblib ', 'json5 ', 'jsonschema ', 'jupyter', 'jupyter-client ', 'jupyter-console ', 'jupyter-contrib-core', 'jupyter-contrib-nbextensions', 'jupyter-core ', 'jupyter-dash', 'jupyter-highlight-selected-word', 'jupyter-latex-envs', 'jupyter-nbextensions-configurator', 'jupyter-server ', 'jupyterlab ', 'jupyterlab-pygments ', 'jupyterlab-server ', 'jupyterlab-widgets ', 'jupyterthemes', 'kaleido', 'keras', 'keyring ', 'kiwisolver ', 'lazy-object-proxy ', 'lesscpy', 'libarchive-c ', 'libclang', 'linkify-it-py', 'llvmlite', 'locket ', 'lxml ', 'markdown-it-py', 'markdown2', 'matplotlib', 'matplotlib-inline', 'mccabe', 'mdit-py-plugins', 'mdurl', 'menuinst ', 'mibian', 'mistune', 'mkdir', 'mkl-fft', 'mkl-random ', 'mkl-service', 'ml-dtypes', 'mock ', 'more-itertools ', 'mpmath', 'msgpack ', 'multidict ', 'multipledispatch', 'multitasking', 'munkres', 'my-module', 'mypy-extensions', 'navigator-updater', 'nbclassic ', 'nbclient ', 'nbconvert ', 'nbformat ', 'nest-asyncio ', 'networkx ', 'nltk ', 'nose ', 'notebook ', 'numba ', 'numexpr ', 'numpy', 'numpy-financial', 'numpydoc ', 'oauthlib', 'olefile ', 'openpyxl ', 'opt-einsum', 'osqp', 'packaging ', 'pandas', 'pandas-datareader ', 'pandoc', 'pandocfilters ', 'panel ', 'param ', 'paramiko ', 'parsel ', 'parso ', 'partd ', 'path-and-address', 'pathlib', 'pathspec', 'patsy', 'pep8', 'pexpect ', 'pickleshare ', 'pipreq', 'pipreqs', 'pkginfo ', 'pkgutil_resolve_name', 'platformdirs', 'plotly ', 'pluggy ', 'plumbum', 'ply', 'poyo ', 'prometheus-client ', 'prompt-toolkit', 'protobuf', 'psutil ', 'ptyprocess ', 'pure-eval ', 'py ', 'pyOpenSSL ', 'pyarrow', 'pyasn1 ', 'pyasn1-modules', 'pycares', 'pycodestyle ', 'pycosat', 'pycparser ', 'pyct ', 'pycurl', 'pydeck', 'pydocstyle ', 'pyerfa ', 'pyflakes ', 'pyhdb', 'pylint ', 'pyls-spyder', 'pyodbc ', 'pyparsing ', 'pyportfolioopt', 'pyreadline', 'pyrsistent ', 'pytest', 'python-dateutil ', 'python-lsp-black ', 'python-lsp-jsonrpc', 'python-lsp-server', 'python-slugify ', 'python-snappy ', 'pytz', 'pytz-deprecation-shim', 'pyviz-comms ', 'pywin32', 'pywin32-ctypes', 'pywinpty ', 'pyxirr', 'pyzmq ', 'qdldl', 'qstylizer ', 'qtconsole ', 'queuelib', 'regex ', 'requests', 'requests-file ', 'requests-oauthlib', 'retrying ', 'rich', 'rope ', 'rpds-py', 'rsa ', 'ruamel-yaml-conda ', 'ruamel.yaml', 'ruamel.yaml.clib', 's3transfer ', 'scikit-image ', 'scikit-learn ', 'scikit-learn-intelex', 'scipy ', 'scs', 'seaborn ', 'semver', 'service-identity ', 'simplejson', 'sip', 'six ', 'sklearn', 'smart-open ', 'smmap', 'sniffio ', 'snowballstemmer ', 'sortedcollections ', 'sortedcontainers ', 'soupsieve ', 'sphinxcontrib-applehelp ', 'sphinxcontrib-devhelp ', 'sphinxcontrib-htmlhelp ', 'sphinxcontrib-jsmath ', 'sphinxcontrib-qthelp ', 'sphinxcontrib-serializinghtml ', 'spyder ', 'spyder-kernels ', 'sqlparse', 'stack-data ', 'statsmodels', 'streamlit', 'sympy ', 'tables', 'tabulate', 'tblib ', 'tenacity ', 'tensorboard', 'tensorboard-data-server', 'tensorflow', 'tensorflow-estimator', 'tensorflow-intel', 'tensorflow-io-gcs-filesystem', 'termcolor', 'terminado ', 'testpath ', 'text-unidecode ', 'textdistance ', 'threadpoolctl ', 'three-merge ', 'tifffile ', 'tinycss ', 'tk', 'tldextract ', 'toml ', 'tomli ', 'toolz ', 'tornado ', 'tqdm ', 'traitlets ', 'twisted-iocpsupport ', 'typed-ast ', 'typing_extensions ', 'tzdata', 'tzlocal', 'uc-micro-py', 'ujson ', 'uri-template', 'urllib3 ', 'validators', 'values', 'virtualenv-clone', 'w3lib ', 'watchdog ', 'wcwidth', 'webcolors', 'webencodings', 'websocket-client ', 'widgetsnbextension ', 'win-inet-pton ', 'win-unicode-console', 'wincertstore', 'wordcloud', 'wrapt', 'write', 'xarray ', 'xlrd ', 'xlwings', 'xyzservices', 'yahoo-finance', 'yahoofinancials', 'yapf ', 'yarg', 'yarl', 'yfinance', 'zict', 'zipp ', 'zope.interface ', '']\n"
     ]
    }
   ],
   "source": [
    "#Make a list of all pkgs in local/system.\n",
    "import subprocess\n",
    "pip_freeze = subprocess.check_output(['pip', 'freeze']).decode().split('\\n')\n",
    "pkgs = [pkg.split('==')[0] for pkg in pip_freeze if pkg != '']\n",
    "with open('old.txt', 'w') as f:\n",
    "    for pkg in pkgs:\n",
    "        f.write(pkg + '\\n')\n",
    "\n",
    "#Read the list of pkgs in old.txt\n",
    "with open('old.txt', 'r') as f:\n",
    "    old_pkgs = f.read().split('\\n')\n",
    "    print(old_pkgs)"
   ]
  },
  {
   "cell_type": "markdown",
   "metadata": {},
   "source": [
    "#### <font color= '#2754db'> 2. Run [Python_Repair.sh](#README.md:) \n",
    "\n",
    "#### 3. Update/Install pkgs in Python (if any). </font>"
   ]
  },
  {
   "cell_type": "code",
   "execution_count": 1,
   "metadata": {},
   "outputs": [
    {
     "name": "stdout",
     "output_type": "stream",
     "text": [
      "An error occurred while updating anaconda-navigator\n",
      ": Command '['pip', 'install', '--upgrade', 'anaconda-navigator\\n']' returned non-zero exit status 1.\n",
      "An error occurred while updating anaconda-project \n",
      ": Command '['pip', 'install', '--upgrade', 'anaconda-project \\n']' returned non-zero exit status 1.\n",
      "An error occurred while updating backports.zoneinfo\n",
      ": Command '['pip', 'install', '--upgrade', 'backports.zoneinfo\\n']' returned non-zero exit status 1.\n",
      "An error occurred while updating conda\n",
      ": Command '['pip', 'install', '--upgrade', 'conda\\n']' returned non-zero exit status 1.\n",
      "An error occurred while updating conda-build\n",
      ": Command '['pip', 'install', '--upgrade', 'conda-build\\n']' returned non-zero exit status 1.\n",
      "An error occurred while updating conda-content-trust \n",
      ": Command '['pip', 'install', '--upgrade', 'conda-content-trust \\n']' returned non-zero exit status 1.\n",
      "An error occurred while updating conda-package-handling \n",
      ": Command '['pip', 'install', '--upgrade', 'conda-package-handling \\n']' returned non-zero exit status 1.\n",
      "An error occurred while updating conda-repo-cli \n",
      ": Command '['pip', 'install', '--upgrade', 'conda-repo-cli \\n']' returned non-zero exit status 1.\n",
      "An error occurred while updating conda-token \n",
      ": Command '['pip', 'install', '--upgrade', 'conda-token \\n']' returned non-zero exit status 1.\n",
      "An error occurred while updating conda-verify\n",
      ": Command '['pip', 'install', '--upgrade', 'conda-verify\\n']' returned non-zero exit status 1.\n",
      "An error occurred while updating menuinst \n",
      ": Command '['pip', 'install', '--upgrade', 'menuinst \\n']' returned non-zero exit status 1.\n",
      "An error occurred while updating mkl-fft\n",
      ": Command '['pip', 'install', '--upgrade', 'mkl-fft\\n']' returned non-zero exit status 1.\n",
      "An error occurred while updating mkl-random \n",
      ": Command '['pip', 'install', '--upgrade', 'mkl-random \\n']' returned non-zero exit status 1.\n",
      "An error occurred while updating mkl-service\n",
      ": Command '['pip', 'install', '--upgrade', 'mkl-service\\n']' returned non-zero exit status 1.\n",
      "An error occurred while updating navigator-updater\n",
      ": Command '['pip', 'install', '--upgrade', 'navigator-updater\\n']' returned non-zero exit status 1.\n",
      "An error occurred while updating pycosat\n",
      ": Command '['pip', 'install', '--upgrade', 'pycosat\\n']' returned non-zero exit status 1.\n",
      "An error occurred while updating pycurl\n",
      ": Command '['pip', 'install', '--upgrade', 'pycurl\\n']' returned non-zero exit status 1.\n",
      "An error occurred while updating python-snappy \n",
      ": Command '['pip', 'install', '--upgrade', 'python-snappy \\n']' returned non-zero exit status 1.\n",
      "An error occurred while updating ruamel-yaml-conda \n",
      ": Command '['pip', 'install', '--upgrade', 'ruamel-yaml-conda \\n']' returned non-zero exit status 1.\n"
     ]
    }
   ],
   "source": [
    "with open('old.txt', 'r') as f:\n",
    "    pkgs = f.readlines()\n",
    "for pkg in pkgs:\n",
    "    try:\n",
    "        # subprocess.check_call(['pip', 'install', pkg])\n",
    "        subprocess.check_call(['pip', 'install', '--upgrade', pkg])\n",
    "    except subprocess.CalledProcessError as e:\n",
    "        print(f\"An error occurred while updating {pkg}: {e}\")\n",
    "        pass"
   ]
  }
 ],
 "metadata": {
  "kernelspec": {
   "display_name": "Python 3",
   "language": "python",
   "name": "python3"
  },
  "language_info": {
   "codemirror_mode": {
    "name": "ipython",
    "version": 3
   },
   "file_extension": ".py",
   "mimetype": "text/x-python",
   "name": "python",
   "nbconvert_exporter": "python",
   "pygments_lexer": "ipython3",
   "version": "3.11.4"
  },
  "orig_nbformat": 4
 },
 "nbformat": 4,
 "nbformat_minor": 2
}
