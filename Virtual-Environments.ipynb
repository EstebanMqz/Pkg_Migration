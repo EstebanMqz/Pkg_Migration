{
 "cells": [
  {
   "cell_type": "markdown",
   "metadata": {},
   "source": [
    "<h3><div align=\"center\"><font color= '#318f17'><b> Subprocess Virtual Environment </b></font></div></h3>\n",
    "\n",
    "\n",
    "[![subprocess](https://img.shields.io/badge/subprocess-builtin_module-black?style=flat)](https://docs.python.org/3/library/subprocess.html) [![Gists](https://img.shields.io/badge/Gists-Environment-010b38?style=square&logo=github&logoColor=black)](https://gist.github.com/EstebanMqz/f30253a8bf8cb50b4510aa8bda10bf7c)\n",
    "\n",
    "- Built-in module that generates processes from terminals <i>([cmd](https://en.wikipedia.org/wiki/Cmd.exe), [bash](https://github.com/EstebanMqz/Git-Basic-Commands), [powershell](https://learn.microsoft.com/en-us/powershell/)) </i> , connects to their [input,output & error pipes](https://docs.python.org/3/library/subprocess.html#subprocess.Popen) while returning their respective [output codes](https://docs.python.org/3/library/subprocess.html#subprocess.CompletedProcess) <i>(0: success, 1: error, 2: warning).</i>\n",
    "- It <i>can</i> be used to create a [venv](https://docs.python.org/3/library/subprocess.html) with the arg. in a sequence of strings.\n",
    "- It <i>can</i> be used to install, update or uninstall modules using [pkg managers](https://en.wikipedia.org/wiki/Package_manager):<br>\n",
    "[`pip`](https://pypi.org/project/pip/), [`conda`](https://docs.conda.io/en/latest/), [`easy_install`](https://setuptools.pypa.io/en/latest/), [`poetry`](https://python-poetry.org/docs/), [`pipenv`](https://pipenv.pypa.io/en/latest/), [`virtualenv`](https://virtualenv.pypa.io/en/latest/), [`venv`](https://docs.python.org/3/library/venv.html), [`conda-forge`](https://conda-forge.org/docs/) but it's used for gral. command running purposes.\n",
    "- [`subprocess`](https://docs.python.org/3/library/subprocess.html) is considered <i>lower-level</i> because of its manual config., but has more control over processes. <br>"
   ]
  }
 ],
 "metadata": {
  "language_info": {
   "name": "python"
  },
  "orig_nbformat": 4
 },
 "nbformat": 4,
 "nbformat_minor": 2
}
